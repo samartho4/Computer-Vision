{
 "cells": [
  {
   "cell_type": "code",
   "execution_count": 1,
   "id": "6183a6ae-a23b-4d26-9951-ed35ff14912a",
   "metadata": {},
   "outputs": [],
   "source": [
    "#Getting the imports \n",
    "import cv2\n",
    "import numpy as np\n",
    "\n",
    "#Reading the image\n",
    "img = cv2.imread('nature.jpg')\n",
    "\n",
    "#Gauusian kernel for sharpening\n",
    "gaussian_blur = cv2.GaussianBlur(img, (7,7), 2)\n",
    "\n",
    "#Sharpening using addweighted()\n",
    "sharpened1 = cv2.addWeighted(img,1.5, gaussian_blur, -0.5, 0)\n",
    "sharpened2 = cv2.addWeighted(img,3.5, gaussian_blur, -2.5, 0)\n",
    "sharpened3 = cv2.addWeighted(img,7.5, gaussian_blur, -6.5, 0)\n",
    "\n",
    "img = cv2.resize(img, (500, 300))\n",
    "sharpened1 = cv2.resize(sharpened1, (500, 300))\n",
    "sharpened2 = cv2.resize(sharpened2, (500, 300))\n",
    "sharpened3 = cv2.resize(sharpened3, (500, 300))\n",
    "\n",
    "\n",
    "cv2.putText(img, \"Original\", org=(20,40), fontFace=cv2.FONT_HERSHEY_PLAIN, fontScale= 2, color=(255,0,255) )\n",
    "cv2.putText(sharpened1, \"sharpened1\", org=(20,40), fontFace=cv2.FONT_HERSHEY_PLAIN, fontScale= 2 , color=(255,0,255))\n",
    "cv2.putText(sharpened2, \"sharpened2\", org=(20,40), fontFace=cv2.FONT_HERSHEY_PLAIN, fontScale= 2 , color=(255,0,255))\n",
    "cv2.putText(sharpened3, \"sharpened3\", org=(20,40), fontFace=cv2.FONT_HERSHEY_PLAIN, fontScale= 2 , color=(255,0,255))\n",
    "\n",
    "\n",
    "img1_3 = np.hstack((img, sharpened1))\n",
    "img2_3 = np.hstack((sharpened2,sharpened3))\n",
    " \n",
    "img3_6 = np.vstack((img1_3,img2_3))\n",
    " \n",
    "cv2.imshow(\"sharpening\", img3_6)\n",
    "cv2.waitKey(0)\n",
    "cv2.destroyAllWindows()"
   ]
  }
 ],
 "metadata": {
  "kernelspec": {
   "display_name": "Python 3 (ipykernel)",
   "language": "python",
   "name": "python3"
  },
  "language_info": {
   "codemirror_mode": {
    "name": "ipython",
    "version": 3
   },
   "file_extension": ".py",
   "mimetype": "text/x-python",
   "name": "python",
   "nbconvert_exporter": "python",
   "pygments_lexer": "ipython3",
   "version": "3.9.13"
  }
 },
 "nbformat": 4,
 "nbformat_minor": 5
}
