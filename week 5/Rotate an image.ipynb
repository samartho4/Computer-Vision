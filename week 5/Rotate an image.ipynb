{
 "cells": [
  {
   "cell_type": "code",
   "execution_count": 1,
   "id": "09f9fb94-95c9-481e-81a5-c058aecd5326",
   "metadata": {},
   "outputs": [],
   "source": [
    "# Show Image\n",
    "import cv2\n",
    "import numpy as np\n",
    " \n",
    "img_path =r\"C:\\Users\\Savita Seharawat\\Desktop\\fulhaus\\Dog+and+Cat.jpg\"\n",
    " \n",
    "img = cv2.imread(img_path)\n",
    "img = cv2.resize(img, (400, 350))\n",
    "cv2.putText(img, \"Original\", org=(20,40), fontFace=cv2.FONT_HERSHEY_PLAIN, fontScale= 2 , color=(0,0,255))\n",
    "cv2.imshow(\"Model Image\", img)\n",
    " \n",
    "cv2.waitKey(0)\n",
    "cv2.destroyAllWindows()"
   ]
  },
  {
   "cell_type": "code",
   "execution_count": 7,
   "id": "ff0f7407-8c34-4032-bc97-61068c9e5ebc",
   "metadata": {},
   "outputs": [],
   "source": [
    "# Show Image\n",
    "import cv2\n",
    "import numpy as np\n",
    " \n",
    "img_path =r\"C:\\Users\\Savita Seharawat\\Desktop\\fulhaus\\Dog+and+Cat.jpg\"\n",
    " \n",
    "img = cv2.imread(img_path)\n",
    "img = cv2.resize(img, (400, 350))\n",
    "img = cv2.rotate(img,cv2.ROTATE_90_COUNTERCLOCKWISE)\n",
    "cv2.putText(img, \"Original\", org=(20,40), fontFace=cv2.FONT_HERSHEY_PLAIN, fontScale= 2 , color=(0,0,255))\n",
    "cv2.imshow(\"Model Image\", img)\n",
    " \n",
    "cv2.waitKey(0)\n",
    "cv2.destroyAllWindows()"
   ]
  },
  {
   "cell_type": "code",
   "execution_count": 20,
   "id": "c4c1e4a2-7a25-4fcb-819c-44e7709d44d9",
   "metadata": {},
   "outputs": [],
   "source": [
    "# Show Image\n",
    "import cv2\n",
    "import numpy as np\n",
    " \n",
    "img_path =r\"C:\\Users\\Savita Seharawat\\Desktop\\fulhaus\\Dog+and+Cat.jpg\"\n",
    " \n",
    "img = cv2.imread(img_path)\n",
    "img = cv2.resize(img, (400, 350))\n",
    "img = cv2.rotate(img,cv2.ROTATE_90_CLOCKWISE)\n",
    "cv2.putText(img, \"Original\", org=(20,40), fontFace=cv2.FONT_HERSHEY_PLAIN, fontScale= 2 , color=(0,0,255))\n",
    "cv2.imshow(\"Model Image\", img)\n",
    " \n",
    "cv2.waitKey(0)\n",
    "cv2.destroyAllWindows()"
   ]
  },
  {
   "cell_type": "code",
   "execution_count": 9,
   "id": "6a83e3a0-2095-4ee1-b3ae-55b448854157",
   "metadata": {},
   "outputs": [],
   "source": [
    "# Show Image\n",
    "import cv2\n",
    "import numpy as np\n",
    " \n",
    "img_path =r\"C:\\Users\\Savita Seharawat\\Desktop\\fulhaus\\Dog+and+Cat.jpg\"\n",
    " \n",
    "img = cv2.imread(img_path)\n",
    "img = cv2.resize(img, (400, 350))\n",
    "img = cv2.rotate(img,cv2.ROTATE_180)\n",
    "cv2.putText(img, \"Original\", org=(20,40), fontFace=cv2.FONT_HERSHEY_PLAIN, fontScale= 2 , color=(0,0,255))\n",
    "cv2.imshow(\"Model Image\", img)\n",
    " \n",
    "cv2.waitKey(0)\n",
    "cv2.destroyAllWindows()"
   ]
  },
  {
   "cell_type": "code",
   "execution_count": 19,
   "id": "4274c831-12cf-416f-aacd-41fc6997a725",
   "metadata": {},
   "outputs": [],
   "source": [
    "# Show Image\n",
    "import cv2\n",
    "import numpy as np\n",
    " \n",
    "img_path =r\"C:\\Users\\Savita Seharawat\\Desktop\\fulhaus\\Dog+and+Cat.jpg\"\n",
    " \n",
    "img = cv2.imread(img_path)\n",
    "img = cv2.resize(img, (400, 350))\n",
    "h,w =img.shape[0:2]\n",
    "centre = (h/2,w/2)\n",
    "rot = cv2.getRotationMatrix2D(centre,45,1)\n",
    "img = cv2.warpAffine(img,rot,(300,400))\n",
    "cv2.putText(img, \"Original\", org=(20,40), fontFace=cv2.FONT_HERSHEY_PLAIN, fontScale= 2 , color=(0,0,255))\n",
    "cv2.imshow(\"Model Image\", img)\n",
    " \n",
    "cv2.waitKey(0)\n",
    "cv2.destroyAllWindows()"
   ]
  }
 ],
 "metadata": {
  "kernelspec": {
   "display_name": "Python 3 (ipykernel)",
   "language": "python",
   "name": "python3"
  },
  "language_info": {
   "codemirror_mode": {
    "name": "ipython",
    "version": 3
   },
   "file_extension": ".py",
   "mimetype": "text/x-python",
   "name": "python",
   "nbconvert_exporter": "python",
   "pygments_lexer": "ipython3",
   "version": "3.9.13"
  }
 },
 "nbformat": 4,
 "nbformat_minor": 5
}
