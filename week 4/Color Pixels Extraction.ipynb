{
 "cells": [
  {
   "cell_type": "markdown",
   "id": "cbc8a0cd-10aa-47c5-b622-bc7e71b25dc0",
   "metadata": {},
   "source": [
    "## Color Pixels Extraction\n",
    "## How to Detect Road Marking Using OpenCV"
   ]
  },
  {
   "cell_type": "code",
   "execution_count": 4,
   "id": "352adb19-1063-4e77-9dfc-2fe36f8a0369",
   "metadata": {},
   "outputs": [],
   "source": [
    "# Show an Image\n",
    "import cv2\n",
    "import numpy as np\n",
    " \n",
    "img_path =\"road.png\"\n",
    " \n",
    "image = cv2.imread(img_path)\n",
    "image = cv2.resize(image, (1280, 720))\n",
    " \n",
    "cv2.imshow(\"Road Image\", image)\n",
    " \n",
    "cv2.waitKey(0)\n",
    "cv2.destroyAllWindows()"
   ]
  },
  {
   "cell_type": "markdown",
   "id": "9515aa73-737c-4d51-8226-362c4de4cb8f",
   "metadata": {},
   "source": [
    "## Conver image in gray scale"
   ]
  },
  {
   "cell_type": "code",
   "execution_count": 5,
   "id": "f114d3af-ed9a-45b7-b172-aab17d83a798",
   "metadata": {},
   "outputs": [],
   "source": [
    "gray_image = cv2.cvtColor(image, cv2.COLOR_BGR2GRAY)\n",
    " \n",
    "cv2.imshow(\"Gray Image\", gray_image)\n",
    " \n",
    "cv2.waitKey(0)\n",
    "cv2.destroyAllWindows()"
   ]
  },
  {
   "cell_type": "code",
   "execution_count": 6,
   "id": "3497ea65-1279-40ea-8d10-1d19a67a4267",
   "metadata": {},
   "outputs": [],
   "source": [
    "## Road Margin Detection using Gray Image"
   ]
  },
  {
   "cell_type": "code",
   "execution_count": 15,
   "id": "cf3fad92-53d4-42c2-8784-711ae8e2d110",
   "metadata": {},
   "outputs": [],
   "source": [
    "gray_img_copy = np.copy(gray_image)\n",
    " \n",
    "gray_img_copy[gray_img_copy[:, :] < 140]=0\n",
    " \n",
    "cv2.imshow(\"Gray Image\", gray_img_copy)\n",
    " \n",
    "cv2.waitKey(0)\n",
    "cv2.destroyAllWindows()\n",
    "\n"
   ]
  },
  {
   "cell_type": "code",
   "execution_count": 17,
   "id": "cab0e079-4e44-4df4-b5ac-3ac7363e0358",
   "metadata": {},
   "outputs": [
    {
     "data": {
      "text/plain": [
       "array([[0, 0, 0, ..., 0, 0, 0],\n",
       "       [0, 0, 0, ..., 0, 0, 0],\n",
       "       [0, 0, 0, ..., 0, 0, 0],\n",
       "       ...,\n",
       "       [0, 0, 0, ..., 0, 0, 0],\n",
       "       [0, 0, 0, ..., 0, 0, 0],\n",
       "       [0, 0, 0, ..., 0, 0, 0]], dtype=uint8)"
      ]
     },
     "execution_count": 17,
     "metadata": {},
     "output_type": "execute_result"
    }
   ],
   "source": [
    " ## 0 - 255 ## 0=Black, 255= White\n",
    " \n",
    "gray_img_copy[:, :] < 140\n",
    " \n",
    "gray_img_copy\n",
    " \n"
   ]
  },
  {
   "cell_type": "code",
   "execution_count": 22,
   "id": "486a9de6-1880-4df0-945b-4781a299db66",
   "metadata": {},
   "outputs": [],
   "source": [
    "img_path =\"road1.png\"\n",
    " \n",
    "img = cv2.imread(img_path)\n",
    "img = cv2.resize(img, (1280, 720))\n",
    " \n",
    "img_copy = np.copy(img)\n",
    " \n",
    "img_copy[(img_copy[:,:,0] > 50) | (img_copy[:,:,1] < 100) | (img_copy[:, :, 2] < 150) ]=0\n",
    " \n",
    "img_2 = np.hstack((cv2.resize(img, (650, 500)), cv2.resize(img_copy, (650, 500))))\n",
    "cv2.imshow(\"Yellow Road Image\", img_2)\n",
    " \n",
    "cv2.waitKey(0)\n",
    "cv2.destroyAllWindows()"
   ]
  },
  {
   "cell_type": "code",
   "execution_count": 39,
   "id": "3a68e987-968b-43cc-ba1b-629c4c6f7559",
   "metadata": {},
   "outputs": [],
   "source": [
    "img_path =r\"red_road.png\"\n",
    " \n",
    "img = cv2.imread(img_path)\n",
    "img = cv2.resize(img, (1280, 720))\n",
    " \n",
    "img_copy = np.copy(img)\n",
    " \n",
    "img_copy[(img_copy[:,:,0] > 60) | (img_copy[:,:,1] > 60) | (img_copy[:, :, 2] < 80) ]=0\n",
    " \n",
    "img_2 = np.hstack(( cv2.resize(img, (500, 500)), cv2.resize(img_copy, (500, 500)) ))\n",
    "cv2.imshow(\"Color Image VS Color Extracted Image\", img_2)\n",
    " \n",
    "cv2.waitKey(0)\n",
    "cv2.destroyAllWindows()"
   ]
  }
 ],
 "metadata": {
  "kernelspec": {
   "display_name": "Python 3 (ipykernel)",
   "language": "python",
   "name": "python3"
  },
  "language_info": {
   "codemirror_mode": {
    "name": "ipython",
    "version": 3
   },
   "file_extension": ".py",
   "mimetype": "text/x-python",
   "name": "python",
   "nbconvert_exporter": "python",
   "pygments_lexer": "ipython3",
   "version": "3.9.13"
  }
 },
 "nbformat": 4,
 "nbformat_minor": 5
}
