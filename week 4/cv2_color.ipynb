{
 "cells": [
  {
   "cell_type": "code",
   "execution_count": 5,
   "id": "60be0fca-0de5-4969-bbcb-5cf03b195867",
   "metadata": {},
   "outputs": [],
   "source": [
    "import cv2\n",
    "import numpy as np\n",
    " \n",
    "img_path = r\"C:\\Users\\Savita Seharawat\\Desktop\\fulhaus\\Dog+and+Cat.jpg\"\n",
    " \n",
    "image = cv2.imread(img_path)\n",
    "image = cv2.resize(image, (1280, 720))\n",
    "\n",
    " \n",
    "cv2.imshow(\"Rectangle on Image\", image)\n",
    " \n",
    "cv2.waitKey(0)\n",
    "cv2.destroyAllWindows()"
   ]
  },
  {
   "cell_type": "code",
   "execution_count": 3,
   "id": "df3d87f3-e7cf-44d7-8211-252fb948cc72",
   "metadata": {},
   "outputs": [
    {
     "data": {
      "text/plain": [
       "array([[[160, 162, 172],\n",
       "        [161, 163, 173],\n",
       "        [162, 164, 174],\n",
       "        ...,\n",
       "        [  0,  46,  32],\n",
       "        [  0,  50,  36],\n",
       "        [  1,  55,  40]],\n",
       "\n",
       "       [[208, 211, 219],\n",
       "        [208, 212, 217],\n",
       "        [209, 212, 220],\n",
       "        ...,\n",
       "        [  0,  46,  32],\n",
       "        [  1,  51,  34],\n",
       "        [  4,  56,  39]],\n",
       "\n",
       "       [[208, 213, 217],\n",
       "        [208, 213, 217],\n",
       "        [208, 213, 217],\n",
       "        ...,\n",
       "        [  0,  40,  25],\n",
       "        [  1,  45,  30],\n",
       "        [  6,  50,  35]],\n",
       "\n",
       "       ...,\n",
       "\n",
       "       [[139, 181, 206],\n",
       "        [138, 180, 205],\n",
       "        [137, 179, 205],\n",
       "        ...,\n",
       "        [153, 187, 203],\n",
       "        [153, 187, 202],\n",
       "        [153, 187, 202]],\n",
       "\n",
       "       [[138, 181, 208],\n",
       "        [138, 181, 208],\n",
       "        [138, 181, 208],\n",
       "        ...,\n",
       "        [156, 190, 206],\n",
       "        [156, 190, 206],\n",
       "        [156, 190, 206]],\n",
       "\n",
       "       [[145, 188, 215],\n",
       "        [145, 189, 216],\n",
       "        [146, 189, 216],\n",
       "        ...,\n",
       "        [154, 188, 204],\n",
       "        [154, 188, 203],\n",
       "        [154, 188, 203]]], dtype=uint8)"
      ]
     },
     "execution_count": 3,
     "metadata": {},
     "output_type": "execute_result"
    }
   ],
   "source": [
    "image"
   ]
  },
  {
   "cell_type": "code",
   "execution_count": 4,
   "id": "c35501ae-86b3-4c03-a746-e17d55f67410",
   "metadata": {},
   "outputs": [
    {
     "data": {
      "text/plain": [
       "(720, 1280, 3)"
      ]
     },
     "execution_count": 4,
     "metadata": {},
     "output_type": "execute_result"
    }
   ],
   "source": [
    "image.shape"
   ]
  },
  {
   "cell_type": "code",
   "execution_count": 6,
   "id": "dee9740e-19e8-4dec-8ae7-d5e532039938",
   "metadata": {},
   "outputs": [
    {
     "data": {
      "text/plain": [
       "array([[160, 161, 162, ...,   0,   0,   1],\n",
       "       [208, 208, 209, ...,   0,   1,   4],\n",
       "       [208, 208, 208, ...,   0,   1,   6],\n",
       "       ...,\n",
       "       [139, 138, 137, ..., 153, 153, 153],\n",
       "       [138, 138, 138, ..., 156, 156, 156],\n",
       "       [145, 145, 146, ..., 154, 154, 154]], dtype=uint8)"
      ]
     },
     "execution_count": 6,
     "metadata": {},
     "output_type": "execute_result"
    }
   ],
   "source": [
    "image[:,:,0]"
   ]
  },
  {
   "cell_type": "code",
   "execution_count": 7,
   "id": "936aadeb-5746-493a-a74d-2e45ebcb79f8",
   "metadata": {},
   "outputs": [
    {
     "data": {
      "text/plain": [
       "array([[162, 163, 164, ...,  46,  50,  55],\n",
       "       [211, 212, 212, ...,  46,  51,  56],\n",
       "       [213, 213, 213, ...,  40,  45,  50],\n",
       "       ...,\n",
       "       [181, 180, 179, ..., 187, 187, 187],\n",
       "       [181, 181, 181, ..., 190, 190, 190],\n",
       "       [188, 189, 189, ..., 188, 188, 188]], dtype=uint8)"
      ]
     },
     "execution_count": 7,
     "metadata": {},
     "output_type": "execute_result"
    }
   ],
   "source": [
    "image[:,:,1]"
   ]
  },
  {
   "cell_type": "code",
   "execution_count": 8,
   "id": "87382424-744b-4195-bcc6-b2fa81d8d1ac",
   "metadata": {},
   "outputs": [
    {
     "data": {
      "text/plain": [
       "array([[172, 173, 174, ...,  32,  36,  40],\n",
       "       [219, 217, 220, ...,  32,  34,  39],\n",
       "       [217, 217, 217, ...,  25,  30,  35],\n",
       "       ...,\n",
       "       [206, 205, 205, ..., 203, 202, 202],\n",
       "       [208, 208, 208, ..., 206, 206, 206],\n",
       "       [215, 216, 216, ..., 204, 203, 203]], dtype=uint8)"
      ]
     },
     "execution_count": 8,
     "metadata": {},
     "output_type": "execute_result"
    }
   ],
   "source": [
    "image[:,:,2]"
   ]
  },
  {
   "cell_type": "code",
   "execution_count": 6,
   "id": "7e17d87e-a70b-4eac-914b-ff8f2efece22",
   "metadata": {},
   "outputs": [],
   "source": [
    "import cv2\n",
    "import numpy as np\n",
    " \n",
    "img_path = r\"C:\\Users\\Savita Seharawat\\Desktop\\fulhaus\\Dog+and+Cat.jpg\"\n",
    " \n",
    "image = cv2.imread(img_path)\n",
    "image = cv2.resize(image, (1280, 720))\n",
    "img_gray = cv2.cvtColor(image,cv2.COLOR_BGR2GRAY)\n",
    "cv2.imshow(\"Rectangle on Image\", img_gray)  \n",
    "cv2.waitKey(0)\n",
    "cv2.destroyAllWindows()"
   ]
  },
  {
   "cell_type": "code",
   "execution_count": 10,
   "id": "9c596849-de88-4cc6-a4d4-5cf1cdf00ae4",
   "metadata": {},
   "outputs": [],
   "source": [
    "import cv2\n",
    "import numpy as np\n",
    " \n",
    "img_path = r\"C:\\Users\\Savita Seharawat\\Desktop\\fulhaus\\Dog+and+Cat.jpg\"\n",
    " \n",
    "image = cv2.imread(img_path)\n",
    "image = cv2.resize(image, (1280, 720))\n",
    "img_gray = cv2.cvtColor(image,cv2.COLOR_BGR2Luv)\n",
    "cv2.imshow(\"Rectangle on Image\", img_gray)  \n",
    "cv2.waitKey(0)\n",
    "cv2.destroyAllWindows()"
   ]
  },
  {
   "cell_type": "code",
   "execution_count": 11,
   "id": "3d55b2cd-5fd3-468d-8079-5e92177b9579",
   "metadata": {},
   "outputs": [
    {
     "data": {
      "text/plain": [
       "50"
      ]
     },
     "execution_count": 11,
     "metadata": {},
     "output_type": "execute_result"
    }
   ],
   "source": [
    "cv2.COLOR_BGR2Luv"
   ]
  },
  {
   "cell_type": "code",
   "execution_count": 5,
   "id": "daf81251-b199-4b19-84dc-020470df83cf",
   "metadata": {},
   "outputs": [],
   "source": [
    "import cv2\n",
    "import numpy as np\n",
    " \n",
    "img_path = r\"C:\\Users\\Savita Seharawat\\Desktop\\fulhaus\\Dog+and+Cat.jpg\"\n",
    " \n",
    "image = cv2.imread(img_path)\n",
    "image = cv2.resize(image, (1280, 720))\n",
    "img_gray = cv2.cvtColor(image,cv2.COLOR_BGR2Luv)\n",
    "cv2.imshow(\"Rectangle on Image\", img_gray)  \n",
    "cv2.waitKey(0)\n",
    "cv2.destroyAllWindows()"
   ]
  },
  {
   "cell_type": "code",
   "execution_count": 1,
   "id": "217c071f-6327-46db-bea2-a9b058f4d2f7",
   "metadata": {},
   "outputs": [
    {
     "name": "stdout",
     "output_type": "stream",
     "text": [
      "['COLOR_BGR2BGR555', 'COLOR_BGR2BGR565', 'COLOR_BGR2BGRA', 'COLOR_BGR2GRAY', 'COLOR_BGR2HLS', 'COLOR_BGR2HLS_FULL', 'COLOR_BGR2HSV', 'COLOR_BGR2HSV_FULL', 'COLOR_BGR2LAB', 'COLOR_BGR2LUV', 'COLOR_BGR2Lab', 'COLOR_BGR2Luv', 'COLOR_BGR2RGB', 'COLOR_BGR2RGBA', 'COLOR_BGR2XYZ', 'COLOR_BGR2YCR_CB', 'COLOR_BGR2YCrCb', 'COLOR_BGR2YUV', 'COLOR_BGR2YUV_I420', 'COLOR_BGR2YUV_IYUV', 'COLOR_BGR2YUV_UYNV', 'COLOR_BGR2YUV_UYVY', 'COLOR_BGR2YUV_Y422', 'COLOR_BGR2YUV_YUNV', 'COLOR_BGR2YUV_YUY2', 'COLOR_BGR2YUV_YUYV', 'COLOR_BGR2YUV_YV12', 'COLOR_BGR2YUV_YVYU']\n"
     ]
    }
   ],
   "source": [
    "import cv2 \n",
    "Color_name = [i for i in dir(cv2) if i.startswith('COLOR_BGR2')]\n",
    "print( Color_name )"
   ]
  },
  {
   "cell_type": "code",
   "execution_count": 11,
   "id": "25a1397c-0567-4bba-944b-55ae01c6d107",
   "metadata": {},
   "outputs": [],
   "source": [
    "Color_name = [ cv2.COLOR_BGR2Luv, cv2.COLOR_BGR2GRAY,cv2.COLOR_BGR2LUV,cv2.COLOR_BGR2YCrCb,cv2.COLOR_BGR2Lab,cv2.COLOR_BGR2HLS_FULL]"
   ]
  },
  {
   "cell_type": "code",
   "execution_count": 16,
   "id": "90f1f4ac-728d-420e-b713-28d4ec8ab9c6",
   "metadata": {},
   "outputs": [],
   "source": [
    "import cv2\n",
    "import numpy as np\n",
    " \n",
    "img_path = r\"C:\\Users\\Savita Seharawat\\Desktop\\fulhaus\\Dog+and+Cat.jpg\"\n",
    " \n",
    "image = cv2.imread(img_path)\n",
    "image = cv2.resize(image, (1280, 720))\n",
    "for color_number in Color_name:\n",
    "    color_image = cv2.cvtColor(image,color_number)\n",
    "    cv2.imshow(f\"image *{color_number}*\", color_image)\n",
    "    cv2.waitKey(2000) # pause for 2 seconds\n",
    "    cv2.destroyAllWindows()\n",
    "    \n",
    "    "
   ]
  }
 ],
 "metadata": {
  "kernelspec": {
   "display_name": "Python 3 (ipykernel)",
   "language": "python",
   "name": "python3"
  },
  "language_info": {
   "codemirror_mode": {
    "name": "ipython",
    "version": 3
   },
   "file_extension": ".py",
   "mimetype": "text/x-python",
   "name": "python",
   "nbconvert_exporter": "python",
   "pygments_lexer": "ipython3",
   "version": "3.9.13"
  }
 },
 "nbformat": 4,
 "nbformat_minor": 5
}
