{
 "cells": [
  {
   "cell_type": "code",
   "execution_count": 19,
   "id": "297ce2b3-d8b4-4120-94c0-da877c7b3c27",
   "metadata": {},
   "outputs": [],
   "source": [
    "#import the dependencies\n",
    "import cv2\n",
    "import numpy as np\n",
    "\n",
    "\n",
    "image = cv2.imread('test.jpg')\n",
    "image= cv2.cvtColor(image, cv2.COLOR_BGR2GRAY)\n",
    "\n",
    "# performing the edge detetcion\n",
    "gradients_sobelx = cv2.Sobel(image, -1, 1, 0)\n",
    "gradients_sobely = cv2.Sobel(image, -1, 0, 1)\n",
    "gradients_sobelxy = cv2.addWeighted(gradients_sobelx, 0.5, gradients_sobely, 0.5, 0)\n",
    "gradients_laplacian = cv2.Laplacian(image, -1)\n",
    "\n",
    "canny_output = cv2.Canny(image, 80, 180)\n",
    "\n",
    "cv2.imshow('origional', image)\n",
    "cv2.imshow('Sobel x', gradients_sobelx)\n",
    "cv2.imshow('Sobel y', gradients_sobely)\n",
    "cv2.imshow('Sobel X+y', gradients_sobelxy)\n",
    "cv2.imshow('laplacian', gradients_laplacian)\n",
    "cv2.imshow('Canny', canny_output)\n",
    "cv2.waitKey()\n",
    "cv2.destroyAllWindows()"
   ]
  }
 ],
 "metadata": {
  "kernelspec": {
   "display_name": "Python 3 (ipykernel)",
   "language": "python",
   "name": "python3"
  },
  "language_info": {
   "codemirror_mode": {
    "name": "ipython",
    "version": 3
   },
   "file_extension": ".py",
   "mimetype": "text/x-python",
   "name": "python",
   "nbconvert_exporter": "python",
   "pygments_lexer": "ipython3",
   "version": "3.9.13"
  }
 },
 "nbformat": 4,
 "nbformat_minor": 5
}
