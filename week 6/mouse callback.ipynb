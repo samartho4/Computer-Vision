{
 "cells": [
  {
   "cell_type": "code",
   "execution_count": 9,
   "id": "e4bfe743-ffbd-42bd-9935-da47ee713dcf",
   "metadata": {},
   "outputs": [],
   "source": [
    "import cv2  \n",
    "import numpy as np  \n",
    "\n",
    "# Creating mouse callback function  \n",
    "def draw_circle(event,x,y,flags,param):\n",
    "    if(event == cv2.EVENT_LBUTTONDBLCLK):\n",
    "        cv2.circle(img,(x,y),40,(0,255, 0),3)  \n",
    "\n",
    "\n",
    "# Creating a black image, a window and bind the function to window  \n",
    "img = cv2.imread('nature.jpg')\n",
    "# img = np.zeros((512,512,3), np.uint8)\n",
    "cv2.namedWindow('image')\n",
    "cv2.setMouseCallback('image',draw_circle)\n",
    "while(1):\n",
    "    cv2.imshow('image',img) \n",
    "    if cv2.waitKey(20) == ord('q'):\n",
    "        break  \n",
    "cv2.destroyAllWindows()"
   ]
  }
 ],
 "metadata": {
  "kernelspec": {
   "display_name": "Python 3 (ipykernel)",
   "language": "python",
   "name": "python3"
  },
  "language_info": {
   "codemirror_mode": {
    "name": "ipython",
    "version": 3
   },
   "file_extension": ".py",
   "mimetype": "text/x-python",
   "name": "python",
   "nbconvert_exporter": "python",
   "pygments_lexer": "ipython3",
   "version": "3.9.13"
  }
 },
 "nbformat": 4,
 "nbformat_minor": 5
}
