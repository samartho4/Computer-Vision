{
 "cells": [
  {
   "cell_type": "markdown",
   "id": "9f0df537-a6a5-477e-8d7b-e1de527c4c5d",
   "metadata": {},
   "source": [
    "## How to write Text on Image?"
   ]
  },
  {
   "cell_type": "raw",
   "id": "8c99a459-3f3c-4d28-95b3-a2b5672dc275",
   "metadata": {},
   "source": [
    "\"\"\"! Only a subset of Hershey fonts\n",
    "enum HersheyFonts {\n",
    "    FONT_HERSHEY_SIMPLEX        = 0, //!< normal size sans-serif font\n",
    "    FONT_HERSHEY_PLAIN          = 1, //!< small size sans-serif font\n",
    "    FONT_HERSHEY_DUPLEX         = 2, //!< normal size sans-serif font (more complex than FONT_HERSHEY_SIMPLEX)\n",
    "    FONT_HERSHEY_COMPLEX        = 3, //!< normal size serif font\n",
    "    FONT_HERSHEY_TRIPLEX        = 4, //!< normal size serif font (more complex than FONT_HERSHEY_COMPLEX)\n",
    "    FONT_HERSHEY_COMPLEX_SMALL  = 5, //!< smaller version of FONT_HERSHEY_COMPLEX\n",
    "    FONT_HERSHEY_SCRIPT_SIMPLEX = 6, //!< hand-writing style font\n",
    "    FONT_HERSHEY_SCRIPT_COMPLEX = 7, //!< more complex variant of FONT_HERSHEY_SCRIPT_SIMPLEX\n",
    "    FONT_ITALIC                 = 16 //!< flag for italic font\n",
    "};\"\"\""
   ]
  },
  {
   "cell_type": "raw",
   "id": "4a5fb8b2-f78e-4129-b164-a4a852fab8db",
   "metadata": {},
   "source": [
    "## Line STyle\n",
    "cv::LineTypes {\n",
    "  cv::FILLED = -1,\n",
    "  cv::LINE_4 = 4,\n",
    "  cv::LINE_8 = 8,\n",
    "  cv::LINE_AA = 16"
   ]
  },
  {
   "cell_type": "code",
   "execution_count": 11,
   "id": "c887f9b7-e363-4d80-b73e-124a7cba55db",
   "metadata": {},
   "outputs": [],
   "source": [
    "import cv2\n",
    "import numpy as np\n",
    " \n",
    "img_path = r\"C:\\Users\\Savita Seharawat\\Desktop\\cvi620\\week 2\\testfolder\\160 cm kingsize bed.jpg\"\n",
    " \n",
    "image = cv2.imread(img_path)\n",
    "image = cv2.resize(image, (1280, 720))\n",
    " \n",
    "text = \"Model\"\n",
    "org = (100, 200)\n",
    "font = cv2.FONT_HERSHEY_COMPLEX\n",
    "fontScale = 6\n",
    "color = (0,0,255)  #(B, G, R)\n",
    "thickness = 3\n",
    "lineType = cv2.LINE_AA\n",
    "bottomLeftOrigin = False\n",
    " \n",
    "# Syntax>> cv2.putText(image, text, org, font, fontScale, color[, thickness[, lineType[, bottomLeftOrigin]]])\n",
    " \n",
    "img_text = cv2.putText(image, text, org, font, fontScale, color, thickness, lineType, bottomLeftOrigin)\n",
    " \n",
    "cv2.imshow(\"Text Image\", img_text)\n",
    " \n",
    "cv2.waitKey(0)\n",
    "cv2.destroyAllWindows()"
   ]
  },
  {
   "cell_type": "code",
   "execution_count": 15,
   "id": "f597c15c-285f-4233-a1ba-ef447a51973b",
   "metadata": {},
   "outputs": [],
   "source": [
    "import cv2\n",
    "import numpy as np\n",
    " \n",
    "img_path = r\"C:\\Users\\Savita Seharawat\\Desktop\\cvi620\\week 2\\testfolder\\160 cm kingsize bed.jpg\"\n",
    " \n",
    "image = cv2.imread(img_path)\n",
    "image = cv2.resize(image, (1280, 720))\n",
    " \n",
    "text = \"Model\"\n",
    "org = (100, 200)\n",
    "font = cv2.FONT_HERSHEY_COMPLEX\n",
    "fontScale = 6\n",
    "color = (0,0,255)  #(B, G, R)\n",
    "thickness = 3\n",
    "lineType = cv2.LINE_AA\n",
    "bottomLeftOrigin = True\n",
    " \n",
    "# Syntax>> cv2.putText(image, text, org, font, fontScale, color[, thickness[, lineType[, bottomLeftOrigin]]])\n",
    " \n",
    "img_text = cv2.putText(image, text, org, font, fontScale, color, thickness, lineType, bottomLeftOrigin)\n",
    " \n",
    "cv2.imshow(\"Text Image\", img_text)\n",
    " \n",
    "cv2.waitKey(0)\n",
    "cv2.destroyAllWindows()"
   ]
  },
  {
   "cell_type": "code",
   "execution_count": 18,
   "id": "84a57e09-251b-4ae3-b06f-6c5797d2840d",
   "metadata": {},
   "outputs": [],
   "source": [
    "import cv2\n",
    "import numpy as np\n",
    " \n",
    "img_path = r\"C:\\Users\\Savita Seharawat\\Desktop\\cvi620\\week 2\\testfolder\\160 cm kingsize bed.jpg\"\n",
    " \n",
    "image = cv2.imread(img_path)\n",
    "image = cv2.resize(image, (1280, 720))\n",
    " \n",
    "text = \"Model\"\n",
    "org = (100, 200)\n",
    "font = cv2.FONT_HERSHEY_COMPLEX\n",
    "fontScale = 6\n",
    "color = (0,0,255)  #(B, G, R)\n",
    "thickness = 3\n",
    "lineType = cv2.LINE_AA\n",
    "bottomLeftOrigin = False\n",
    " \n",
    "# Syntax>> cv2.putText(image, text, org, font, fontScale, color[, thickness[, lineType[, bottomLeftOrigin]]])\n",
    " \n",
    "img_text = cv2.putText(image, text, org, font, fontScale, color, thickness, lineType, bottomLeftOrigin)\n",
    "img_text = cv2.putText(img_text, text, org, font, fontScale, color, thickness, lineType, bottomLeftOrigin = True)\n",
    " \n",
    "cv2.imshow(\"Text Image\", img_text)\n",
    " \n",
    "cv2.waitKey(0)\n",
    "cv2.destroyAllWindows()"
   ]
  }
 ],
 "metadata": {
  "kernelspec": {
   "display_name": "Python 3 (ipykernel)",
   "language": "python",
   "name": "python3"
  },
  "language_info": {
   "codemirror_mode": {
    "name": "ipython",
    "version": 3
   },
   "file_extension": ".py",
   "mimetype": "text/x-python",
   "name": "python",
   "nbconvert_exporter": "python",
   "pygments_lexer": "ipython3",
   "version": "3.9.13"
  }
 },
 "nbformat": 4,
 "nbformat_minor": 5
}
