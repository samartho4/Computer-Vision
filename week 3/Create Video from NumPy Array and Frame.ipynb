{
 "cells": [
  {
   "cell_type": "markdown",
   "id": "6499fc4b-4768-44ab-ad9b-32a0faf78167",
   "metadata": {},
   "source": [
    "## Create Video from NumPy Array and Frame"
   ]
  },
  {
   "cell_type": "markdown",
   "id": "69bce6a5-ac6a-4f9d-8061-aeb0d94c2540",
   "metadata": {},
   "source": [
    "## Video From NumPy Array"
   ]
  },
  {
   "cell_type": "code",
   "execution_count": 2,
   "id": "d35965fc-b19f-4ee9-af14-e4f3292bf6e9",
   "metadata": {},
   "outputs": [],
   "source": [
    "import numpy as np\n",
    "import cv2\n",
    "import os"
   ]
  },
  {
   "cell_type": "code",
   "execution_count": 4,
   "id": "feb44cfb-7f4a-416d-ad69-f6921c705950",
   "metadata": {},
   "outputs": [],
   "source": [
    "width = 1280\n",
    "hieght = 720\n",
    "channel = 3\n",
    " \n",
    "fps = 5\n",
    "sec = 20"
   ]
  },
  {
   "cell_type": "code",
   "execution_count": null,
   "id": "1b9e7c44-1b88-484b-b2c1-f901ca9af8fc",
   "metadata": {},
   "outputs": [],
   "source": [
    "# Syntax: VideoWriter_fourcc(c1, c2, c3, c4) # Concatenates 4 chars to a fourcc code\n",
    "#  cv2.VideoWriter_fourcc('M','J','P','G') or cv2.VideoWriter_fourcc(*'MJPG)\n",
    " \n",
    "fourcc = cv2.VideoWriter_fourcc(*'MP42') # FourCC is a 4-byte code used to specify the video codec.\n",
    "# A video codec is software or hardware that compresses and decompresses digital video. \n",
    "# In the context of video compression, codec is a portmanteau of encoder and decoder, \n",
    "# while a device that only compresses is typically called an encoder, and one that only \n",
    "# decompresses is a decoder. Source - Wikipedia\n",
    " \n",
    "#Syntax: cv2.VideoWriter( filename, fourcc, fps, frameSize )\n",
    "video = cv2.VideoWriter('test.mp4', fourcc, float(fps), (width, hieght))\n",
    " \n",
    "for frame_count in range(fps*sec):\n",
    "    img = np.random.randint(0,255, (hieght, width, channel), dtype = np.uint8)\n",
    "    video.write(img)\n",
    " \n",
    "video.release()"
   ]
  },
  {
   "cell_type": "code",
   "execution_count": null,
   "id": "4632c33c-7dd4-4363-a3b4-0561efe41539",
   "metadata": {},
   "outputs": [],
   "source": [
    "width = 1150\n",
    "hieght = 620\n",
    "channel = 3\n",
    " \n",
    "fps = 10\n",
    "sec = 12"
   ]
  },
  {
   "cell_type": "markdown",
   "id": "05421430-aceb-44db-bd24-92faf12d9e88",
   "metadata": {},
   "source": [
    "## Video from Images"
   ]
  },
  {
   "cell_type": "code",
   "execution_count": 5,
   "id": "cd8a1324-07fd-4e58-b3fc-4bdcffcc3202",
   "metadata": {
    "collapsed": true,
    "jupyter": {
     "outputs_hidden": true
    },
    "tags": []
   },
   "outputs": [
    {
     "data": {
      "text/plain": [
       "['120cm Bed with underbed drawer.jpg',\n",
       " '140 cm double bed.jpg',\n",
       " '160 cm kingsize bed.jpg',\n",
       " '180 cm super kingsize bed.jpg',\n",
       " '90cm Bed with underbed drawer.jpg',\n",
       " 'Addison King Bed.jpg',\n",
       " 'Aidan Bed-Heavy Pebble Pewter-Queen.jpg',\n",
       " 'Aidan Bed-Vintage Tobacco-King.jpg',\n",
       " 'Aidan King Bed-Pebble Pewter.jpg',\n",
       " 'Aiden Velvet Bed.jpg',\n",
       " 'ALBI BED.jpg',\n",
       " 'Alexander Queen Bed.jpg',\n",
       " 'Alina Full Platform Bed Frame.jpg',\n",
       " 'Alina Queen Platform Bed Frame.jpg',\n",
       " 'Alina Twin Platform Bed Frame.jpg',\n",
       " 'Amaris Full Fabric Platform Bed with Round Splayed Legs.jpg',\n",
       " 'Amaris King Fabric Platform Bed with Squared Tapered Legs.jpg',\n",
       " 'Amaris Queen Fabric Platform Bed with Round Splayed Legs.jpg',\n",
       " 'Amaris Queen Fabric Platform Bed with Squared Tapered Legs in Gray _ Modway.jpg',\n",
       " 'Amaris Queen Fabric Platform Bed with Squared Tapered Legs.jpg',\n",
       " 'Amaris Twin Fabric Platform Bed with Round Splayed Legs.jpg',\n",
       " 'Amaris Twin Fabric Platform Bed with Squared Tapered Legs.jpg',\n",
       " 'Amelia Full Upholstered Fabric Bed.jpg',\n",
       " 'Amelia King Performance Velvet Bed.jpg']"
      ]
     },
     "execution_count": 5,
     "metadata": {},
     "output_type": "execute_result"
    }
   ],
   "source": [
    "fourcc = cv2.VideoWriter_fourcc(*'MP42')\n",
    " \n",
    "video = cv2.VideoWriter('image_to_video_bed.mp4', fourcc, float(fps), (width, hieght))\n",
    " \n",
    "directry = r'C:\\Users\\Savita Seharawat\\Desktop\\cvi620\\week 2\\testfolder'\n",
    " \n",
    "img_name_list = os.listdir(directry)\n",
    "img_name_list\n",
    " \n"
   ]
  },
  {
   "cell_type": "code",
   "execution_count": null,
   "id": "95a2bb6e-6e8d-4360-9d69-5fd04e27e5bd",
   "metadata": {},
   "outputs": [],
   "source": [
    "for frame_count in range(fps*sec):\n",
    "    \n",
    "    img_name = np.random.choice(img_name_list)\n",
    "    img_path = os.path.join(directry, img_name)\n",
    "    img = cv2.imread(img_path)\n",
    "    img_resize = cv2.resize(img, (width, hieght))\n",
    "     \n",
    "    video.write(img_resize)\n",
    "     \n",
    "video.release()"
   ]
  }
 ],
 "metadata": {
  "kernelspec": {
   "display_name": "Python 3 (ipykernel)",
   "language": "python",
   "name": "python3"
  },
  "language_info": {
   "codemirror_mode": {
    "name": "ipython",
    "version": 3
   },
   "file_extension": ".py",
   "mimetype": "text/x-python",
   "name": "python",
   "nbconvert_exporter": "python",
   "pygments_lexer": "ipython3",
   "version": "3.9.13"
  }
 },
 "nbformat": 4,
 "nbformat_minor": 5
}
