{
 "cells": [
  {
   "cell_type": "code",
   "execution_count": null,
   "id": "3b15c22f-a79b-40b1-93a1-4d4bfc3f8e7f",
   "metadata": {},
   "outputs": [],
   "source": []
  },
  {
   "cell_type": "code",
   "execution_count": 57,
   "id": "713f2d7d-fe68-47ae-afe2-886a888bed46",
   "metadata": {},
   "outputs": [],
   "source": [
    "import cv2\n",
    "import numpy as np\n",
    " \n",
    "img_path = r\"C:\\Users\\Savita Seharawat\\Desktop\\fulhaus\\Dog+and+Cat.jpg\"\n",
    "image = cv2.imread(img_path)"
   ]
  },
  {
   "cell_type": "code",
   "execution_count": 58,
   "id": "e209f1dd-5362-40e5-9603-24e5e5ce2aa6",
   "metadata": {},
   "outputs": [
    {
     "data": {
      "text/plain": [
       "(1200, 1200, 3)"
      ]
     },
     "execution_count": 58,
     "metadata": {},
     "output_type": "execute_result"
    }
   ],
   "source": [
    "image.shape"
   ]
  },
  {
   "cell_type": "code",
   "execution_count": 78,
   "id": "7fd5772f-b73c-4ca0-92e2-82985194aa15",
   "metadata": {
    "tags": []
   },
   "outputs": [
    {
     "data": {
      "text/plain": [
       "dtype('uint8')"
      ]
     },
     "execution_count": 78,
     "metadata": {},
     "output_type": "execute_result"
    }
   ],
   "source": [
    "image.dtype"
   ]
  },
  {
   "cell_type": "code",
   "execution_count": 69,
   "id": "87ee797f-dbc8-4d39-a6d7-b2f7f01fd1a4",
   "metadata": {
    "tags": []
   },
   "outputs": [
    {
     "data": {
      "text/plain": [
       "(1200, 1200, 3)"
      ]
     },
     "execution_count": 69,
     "metadata": {},
     "output_type": "execute_result"
    }
   ],
   "source": [
    "np.ones(image.shape).shape"
   ]
  },
  {
   "cell_type": "code",
   "execution_count": 84,
   "id": "2e2cf1ed-8587-4b92-8e0b-8980430e13e0",
   "metadata": {
    "collapsed": true,
    "jupyter": {
     "outputs_hidden": true
    },
    "tags": []
   },
   "outputs": [
    {
     "data": {
      "text/plain": [
       "array([[[1, 1, 1],\n",
       "        [1, 1, 1],\n",
       "        [1, 1, 1],\n",
       "        ...,\n",
       "        [1, 1, 1],\n",
       "        [1, 1, 1],\n",
       "        [1, 1, 1]],\n",
       "\n",
       "       [[1, 1, 1],\n",
       "        [1, 1, 1],\n",
       "        [1, 1, 1],\n",
       "        ...,\n",
       "        [1, 1, 1],\n",
       "        [1, 1, 1],\n",
       "        [1, 1, 1]],\n",
       "\n",
       "       [[1, 1, 1],\n",
       "        [1, 1, 1],\n",
       "        [1, 1, 1],\n",
       "        ...,\n",
       "        [1, 1, 1],\n",
       "        [1, 1, 1],\n",
       "        [1, 1, 1]],\n",
       "\n",
       "       ...,\n",
       "\n",
       "       [[1, 1, 1],\n",
       "        [1, 1, 1],\n",
       "        [1, 1, 1],\n",
       "        ...,\n",
       "        [1, 1, 1],\n",
       "        [1, 1, 1],\n",
       "        [1, 1, 1]],\n",
       "\n",
       "       [[1, 1, 1],\n",
       "        [1, 1, 1],\n",
       "        [1, 1, 1],\n",
       "        ...,\n",
       "        [1, 1, 1],\n",
       "        [1, 1, 1],\n",
       "        [1, 1, 1]],\n",
       "\n",
       "       [[1, 1, 1],\n",
       "        [1, 1, 1],\n",
       "        [1, 1, 1],\n",
       "        ...,\n",
       "        [1, 1, 1],\n",
       "        [1, 1, 1],\n",
       "        [1, 1, 1]]], dtype=uint8)"
      ]
     },
     "execution_count": 84,
     "metadata": {},
     "output_type": "execute_result"
    }
   ],
   "source": [
    "np.uint8(np.ones(image.shape))"
   ]
  },
  {
   "cell_type": "code",
   "execution_count": 104,
   "id": "b4bff8d2-45ef-4331-a272-81a411d24c0f",
   "metadata": {
    "tags": []
   },
   "outputs": [],
   "source": [
    "# Make Make darker\n",
    "img_path = r\"C:\\Users\\Savita Seharawat\\Desktop\\fulhaus\\Dog+and+Cat.jpg\"\n",
    "image = cv2.imread(img_path)\n",
    "img2 = cv2.add(image ,np.uint8(np.ones(image.shape))*50)\n",
    "image = cv2.resize(img2, (1280, 720))\n",
    "cv2.imshow(\"Rectangle on Image\", image)\n",
    " \n",
    "cv2.waitKey(0)\n",
    "cv2.destroyAllWindows()"
   ]
  },
  {
   "cell_type": "code",
   "execution_count": 102,
   "id": "435eb8bd-6a43-4368-ade3-2fd7d6e73f7a",
   "metadata": {},
   "outputs": [],
   "source": [
    "# Make brighter\n",
    "img_path = r\"C:\\Users\\Savita Seharawat\\Desktop\\fulhaus\\Dog+and+Cat.jpg\"\n",
    "image = cv2.imread(img_path)\n",
    "img2 = cv2.add(image ,np.uint8(np.ones(image.shape))*200)\n",
    "image = cv2.resize(img2, (1280, 720))\n",
    "cv2.imshow(\"Rectangle on Image\", image)\n",
    " \n",
    "cv2.waitKey(0)\n",
    "cv2.destroyAllWindows()"
   ]
  },
  {
   "cell_type": "markdown",
   "id": "896dacf3-fb9b-44c7-9c0a-2554942c406f",
   "metadata": {},
   "source": [
    "## Multiply & Divide (scalar)"
   ]
  },
  {
   "cell_type": "code",
   "execution_count": 105,
   "id": "d37b674f-2627-4696-bc57-e90fadf774c9",
   "metadata": {},
   "outputs": [],
   "source": [
    "# Make brighter\n",
    "img_path = r\"C:\\Users\\Savita Seharawat\\Desktop\\fulhaus\\Dog+and+Cat.jpg\"\n",
    "image = cv2.imread(img_path)\n",
    "img2 = cv2.multiply(image ,np.uint8(np.ones(image.shape)),scale =0.5)\n",
    "image = cv2.resize(img2, (1280, 720))\n",
    "cv2.imshow(\"Rectangle on Image\", image)\n",
    " \n",
    "cv2.waitKey(0)\n",
    "cv2.destroyAllWindows()"
   ]
  },
  {
   "cell_type": "code",
   "execution_count": 106,
   "id": "e3069a64-f602-46b1-9bf4-27193d99a1c9",
   "metadata": {},
   "outputs": [],
   "source": [
    "# Make brighter\n",
    "img_path = r\"C:\\Users\\Savita Seharawat\\Desktop\\fulhaus\\Dog+and+Cat.jpg\"\n",
    "image = cv2.imread(img_path)\n",
    "img2 = cv2.multiply(image ,np.uint8(np.ones(image.shape)),scale =1.5)\n",
    "image = cv2.resize(img2, (1280, 720))\n",
    "cv2.imshow(\"Rectangle on Image\", image)\n",
    " \n",
    "cv2.waitKey(0)\n",
    "cv2.destroyAllWindows()"
   ]
  },
  {
   "cell_type": "markdown",
   "id": "1f0d0461-2e37-42b1-9b01-d73db7fe518a",
   "metadata": {},
   "source": [
    "## Draw Rectangle on Image of dog"
   ]
  },
  {
   "cell_type": "code",
   "execution_count": 90,
   "id": "cb053abb-72a6-4ba5-914e-166a2071f315",
   "metadata": {},
   "outputs": [],
   "source": [
    "import cv2\n",
    "import numpy as np\n",
    " \n",
    "img_path = r\"C:\\Users\\Savita Seharawat\\Desktop\\fulhaus\\Dog+and+Cat.jpg\"\n",
    " \n",
    "image = cv2.imread(img_path)\n",
    "image = cv2.resize(image, (1280, 720))\n",
    " \n",
    "pt1 = (100, 150)\n",
    "pt2 = (410, 400)\n",
    "color = (0, 0, 255)\n",
    "thickness = 4\n",
    "lineType = cv2.LINE_4\n",
    " \n",
    "#rectangle(img, pt1, pt2, color, thickness, lineType, shift)\n",
    "img_rect = cv2.rectangle(image, pt1, pt2, color, thickness, lineType)\n",
    " \n",
    "cv2.imshow(\"Rectangle on Image\", img_rect)\n",
    " \n",
    "cv2.waitKey(0)\n",
    "cv2.destroyAllWindows()"
   ]
  },
  {
   "cell_type": "markdown",
   "id": "9d7993e3-a680-40bd-994c-13b39c397fa3",
   "metadata": {},
   "source": [
    "## Fill Rectangle on Image"
   ]
  },
  {
   "cell_type": "code",
   "execution_count": 35,
   "id": "758bdeab-e6f7-410a-a52e-0add944d6f96",
   "metadata": {},
   "outputs": [],
   "source": [
    "import cv2\n",
    "import numpy as np\n",
    " \n",
    "img_path = r\"C:\\Users\\Savita Seharawat\\Desktop\\fulhaus\\Dog+and+Cat.jpg\"\n",
    " \n",
    "image = cv2.imread(img_path)\n",
    "image = cv2.resize(image, (1280, 720))\n",
    " \n",
    "pt1 = (100, 150)\n",
    "pt2 = (410, 400)\n",
    "color = (255, 0, 0)\n",
    "thickness = -1\n",
    "lineType = cv2.LINE_4\n",
    " \n",
    "#rectangle(img, pt1, pt2, color[, thickness[, lineType[, shift]]])\n",
    "img_rect = cv2.rectangle(image, pt1, pt2, color, thickness, lineType)\n",
    " \n",
    "cv2.imshow(\"Rectangle on Image\", img_rect)\n",
    " \n",
    "cv2.waitKey(0)\n",
    "cv2.destroyAllWindows()"
   ]
  },
  {
   "cell_type": "markdown",
   "id": "34418426-c9f8-4311-999d-19ce0c7ed87c",
   "metadata": {},
   "source": [
    "## Text On Rectangle on Image"
   ]
  },
  {
   "cell_type": "code",
   "execution_count": 45,
   "id": "45a1ef0b-ca08-413a-8c01-b375f7a4c364",
   "metadata": {},
   "outputs": [],
   "source": [
    "import cv2\n",
    "import numpy as np\n",
    " \n",
    "img_path = r\"C:\\Users\\Savita Seharawat\\Desktop\\fulhaus\\Dog+and+Cat.jpg\"\n",
    " \n",
    "image = cv2.imread(img_path)\n",
    "image = cv2.resize(image, (1280, 720))\n",
    " \n",
    "pt1 = (100, 150)\n",
    "pt2 = (410, 400)\n",
    "color = (255, 0, 0)\n",
    "thickness = -1\n",
    "lineType = cv2.LINE_4\n",
    " \n",
    "#rectangle(img, pt1, pt2, color[, thickness[, lineType[, shift]]])\n",
    "img_rect = cv2.rectangle(image, pt1, pt2, color, thickness, lineType)\n",
    " \n",
    "#text on image\n",
    "text = \"Face - 100%\"\n",
    "org = (150, 300)\n",
    "fontFace = cv2.FONT_HERSHEY_SIMPLEX\n",
    "fontScale = 1\n",
    "color = (0,0,25)\n",
    "lineType = cv2.LINE_4\n",
    " \n",
    "#text, org, fontFace, fontScale, color[, thickness\n",
    " \n",
    "img_text = cv2.putText(img_rect, text, org, fontFace, fontScale, color, lineType)\n",
    " \n",
    " \n",
    "cv2.imshow(\"Rectangle on Image\", img_text)\n",
    " \n",
    "cv2.waitKey(0)\n",
    "cv2.destroyAllWindows()"
   ]
  },
  {
   "cell_type": "markdown",
   "id": "3371f2a1-973c-4627-8c41-f7d863cd2e8c",
   "metadata": {},
   "source": [
    "## Text Above Rectangle on Image"
   ]
  },
  {
   "cell_type": "code",
   "execution_count": 47,
   "id": "c70ee07b-1b5a-4f90-bbf5-9c9825c4973c",
   "metadata": {},
   "outputs": [],
   "source": [
    "import cv2\n",
    "import numpy as np\n",
    " \n",
    "img_path = r\"C:\\Users\\Savita Seharawat\\Desktop\\fulhaus\\Dog+and+Cat.jpg\"\n",
    " \n",
    "image = cv2.imread(img_path)\n",
    "image = cv2.resize(image, (1280, 720))\n",
    " \n",
    "pt1 = (100, 150)\n",
    "pt2 = (410, 400)\n",
    "color = (255, 0, 0)\n",
    "thickness = 4\n",
    "lineType = cv2.LINE_4\n",
    " \n",
    "#rectangle(img, pt1, pt2, color[, thickness[, lineType[, shift]]])\n",
    "img_rect = cv2.rectangle(image, pt1, pt2, color, thickness, lineType)\n",
    " \n",
    "#text on image\n",
    "text = \"Face - 100%\"\n",
    "org = (150, 140)\n",
    "fontFace = cv2.FONT_HERSHEY_SIMPLEX\n",
    "fontScale = 1\n",
    "color = (0,255,25)\n",
    "lineType = cv2.LINE_4\n",
    " \n",
    "#text, org, fontFace, fontScale, color[, thickness\n",
    " \n",
    "img_text = cv2.putText(img_rect, text, org, fontFace, fontScale, color, lineType)\n",
    " \n",
    " \n",
    "cv2.imshow(\"Rectangle on Image\", img_text)\n",
    " \n",
    "cv2.waitKey(0)\n",
    "cv2.destroyAllWindows()"
   ]
  },
  {
   "cell_type": "markdown",
   "id": "390a1c49-dce8-4eb3-91a7-854fe8b19803",
   "metadata": {},
   "source": [
    "## Save image"
   ]
  },
  {
   "cell_type": "code",
   "execution_count": 48,
   "id": "d40343fc-e6af-4ea9-accb-a0a4a4c4d12e",
   "metadata": {},
   "outputs": [],
   "source": [
    "import cv2\n",
    "import numpy as np\n",
    " \n",
    "img_path = r\"C:\\Users\\Savita Seharawat\\Desktop\\fulhaus\\Dog+and+Cat.jpg\"\n",
    " \n",
    "image = cv2.imread(img_path)\n",
    "image = cv2.resize(image, (1280, 720))\n",
    " \n",
    "pt1 = (100, 150)\n",
    "pt2 = (410, 400)\n",
    "color = (255, 0, 0)\n",
    "thickness = 4\n",
    "lineType = cv2.LINE_4\n",
    " \n",
    "#rectangle(img, pt1, pt2, color[, thickness[, lineType[, shift]]])\n",
    "img_rect = cv2.rectangle(image, pt1, pt2, color, thickness, lineType)\n",
    " \n",
    "#text on image\n",
    "text = \"Face - 100%\"\n",
    "org = (150, 140)\n",
    "fontFace = cv2.FONT_HERSHEY_SIMPLEX\n",
    "fontScale = 1\n",
    "color = (0,255,25)\n",
    "lineType = cv2.LINE_4\n",
    " \n",
    "#text, org, fontFace, fontScale, color[, thickness\n",
    " \n",
    "img_text = cv2.putText(img_rect, text, org, fontFace, fontScale, color, lineType)\n",
    " \n",
    " \n",
    "cv2.imwrite(\"image_with_rect_text.png\", img_text)\n",
    " \n",
    "cv2.imshow(\"Rectangle on Image\", img_text)\n",
    " \n",
    "cv2.waitKey(0)\n",
    "cv2.destroyAllWindows()"
   ]
  },
  {
   "cell_type": "code",
   "execution_count": null,
   "id": "bdca7638-8010-4d5a-b5bc-71a5455f441f",
   "metadata": {},
   "outputs": [],
   "source": []
  }
 ],
 "metadata": {
  "kernelspec": {
   "display_name": "Python 3 (ipykernel)",
   "language": "python",
   "name": "python3"
  },
  "language_info": {
   "codemirror_mode": {
    "name": "ipython",
    "version": 3
   },
   "file_extension": ".py",
   "mimetype": "text/x-python",
   "name": "python",
   "nbconvert_exporter": "python",
   "pygments_lexer": "ipython3",
   "version": "3.9.13"
  }
 },
 "nbformat": 4,
 "nbformat_minor": 5
}
