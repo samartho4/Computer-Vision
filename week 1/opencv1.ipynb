{
 "cells": [
  {
   "cell_type": "code",
   "execution_count": 3,
   "id": "60f9d228-aca5-445b-a8dc-aa740d2d3d5c",
   "metadata": {},
   "outputs": [
    {
     "name": "stdout",
     "output_type": "stream",
     "text": [
      "Collecting opencv-python\n",
      "  Downloading opencv_python-4.10.0.84-cp37-abi3-win_amd64.whl (38.8 MB)\n",
      "     --------------------------------------- 38.8/38.8 MB 28.5 MB/s eta 0:00:00\n",
      "Requirement already satisfied: numpy>=1.19.3 in c:\\users\\savita seharawat\\anaconda3\\lib\\site-packages (from opencv-python) (1.24.2)\n",
      "Installing collected packages: opencv-python\n",
      "Successfully installed opencv-python-4.10.0.84\n",
      "Note: you may need to restart the kernel to use updated packages.\n"
     ]
    }
   ],
   "source": [
    "pip install opencv-python\n"
   ]
  },
  {
   "cell_type": "code",
   "execution_count": 1,
   "id": "b9bedca3-d7ac-48f5-bda7-74599a003c38",
   "metadata": {},
   "outputs": [],
   "source": [
    "import numpy\n",
    "import matplotlib"
   ]
  },
  {
   "cell_type": "code",
   "execution_count": 2,
   "id": "1664eaa4-01ac-4345-aa61-ab6fb56ef52b",
   "metadata": {},
   "outputs": [],
   "source": [
    "import cv2 as cv"
   ]
  },
  {
   "cell_type": "code",
   "execution_count": 27,
   "id": "371d98f6-6d43-484d-8571-27761850984a",
   "metadata": {},
   "outputs": [],
   "source": [
    "image = cv.imread(\"C:\\\\Users\\\\Savita Seharawat\\\\Desktop\\\\fulhaus\\\\Pizza.jpg\")\n",
    "# Using namedWindow() \n",
    "# A window with 'Display' name is created \n",
    "# with WINDOW_AUTOSIZE, window size is set automatically \n",
    "cv.namedWindow(\"Pizza\", cv.WINDOW_AUTOSIZE) \n",
    "  \n",
    "# using cv2.imshow() to display the image \n",
    "cv.imshow('Pizza', image) \n",
    "  \n",
    "# Waiting 0ms for user to press any key \n",
    "cv.waitKey(0) \n",
    "  \n",
    "# Using cv2.destroyAllWindows() to destroy \n",
    "# all created windows open on screen \n",
    "cv.destroyAllWindows() "
   ]
  },
  {
   "cell_type": "code",
   "execution_count": 32,
   "id": "36699166-d51d-47c9-a487-b8a8b0cd909a",
   "metadata": {},
   "outputs": [],
   "source": [
    "# Start a video capture, using device's camera\n",
    "webcam= cv.VideoCapture(0)\n",
    "\n",
    "stop = False\n",
    "while stop == False:\n",
    "    ret,frame = webcam.read()\n",
    "    \n",
    "    if ret == True:\n",
    "        cv.imshow('Pizza',frame)\n",
    "        key = cv.waitKey(1) \n",
    "        if key == ord(\"q\"):\n",
    "            stop = True\n",
    "webcam.release()\n",
    "cv.destroyAllWindows()"
   ]
  }
 ],
 "metadata": {
  "kernelspec": {
   "display_name": "Python 3 (ipykernel)",
   "language": "python",
   "name": "python3"
  },
  "language_info": {
   "codemirror_mode": {
    "name": "ipython",
    "version": 3
   },
   "file_extension": ".py",
   "mimetype": "text/x-python",
   "name": "python",
   "nbconvert_exporter": "python",
   "pygments_lexer": "ipython3",
   "version": "3.9.13"
  }
 },
 "nbformat": 4,
 "nbformat_minor": 5
}
